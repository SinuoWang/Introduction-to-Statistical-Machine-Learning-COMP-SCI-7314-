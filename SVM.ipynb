{
 "cells": [
  {
   "cell_type": "code",
   "execution_count": 24,
   "id": "c489a437",
   "metadata": {},
   "outputs": [],
   "source": [
    "import numpy as np\n",
    "import pandas as pd\n",
    "import cvxpy as cp\n",
    "import matplotlib as plt"
   ]
  },
  {
   "cell_type": "code",
   "execution_count": 2,
   "id": "9e7712c6",
   "metadata": {},
   "outputs": [
    {
     "name": "stdout",
     "output_type": "stream",
     "text": [
      "1.2.1\n"
     ]
    }
   ],
   "source": [
    "print(cp.__version__)"
   ]
  },
  {
   "cell_type": "markdown",
   "id": "60cbed42",
   "metadata": {},
   "source": [
    "# Create Datasets"
   ]
  },
  {
   "cell_type": "code",
   "execution_count": 3,
   "id": "4f272996",
   "metadata": {},
   "outputs": [
    {
     "data": {
      "text/html": [
       "<div>\n",
       "<style scoped>\n",
       "    .dataframe tbody tr th:only-of-type {\n",
       "        vertical-align: middle;\n",
       "    }\n",
       "\n",
       "    .dataframe tbody tr th {\n",
       "        vertical-align: top;\n",
       "    }\n",
       "\n",
       "    .dataframe thead th {\n",
       "        text-align: right;\n",
       "    }\n",
       "</style>\n",
       "<table border=\"1\" class=\"dataframe\">\n",
       "  <thead>\n",
       "    <tr style=\"text-align: right;\">\n",
       "      <th></th>\n",
       "      <th>0</th>\n",
       "      <th>1</th>\n",
       "      <th>2</th>\n",
       "      <th>3</th>\n",
       "      <th>4</th>\n",
       "      <th>5</th>\n",
       "      <th>6</th>\n",
       "      <th>7</th>\n",
       "      <th>8</th>\n",
       "      <th>9</th>\n",
       "      <th>...</th>\n",
       "      <th>191</th>\n",
       "      <th>192</th>\n",
       "      <th>193</th>\n",
       "      <th>194</th>\n",
       "      <th>195</th>\n",
       "      <th>196</th>\n",
       "      <th>197</th>\n",
       "      <th>198</th>\n",
       "      <th>199</th>\n",
       "      <th>200</th>\n",
       "    </tr>\n",
       "  </thead>\n",
       "  <tbody>\n",
       "    <tr>\n",
       "      <th>0</th>\n",
       "      <td>0.0</td>\n",
       "      <td>-0.36</td>\n",
       "      <td>-0.91</td>\n",
       "      <td>-0.99</td>\n",
       "      <td>-0.57</td>\n",
       "      <td>-1.38</td>\n",
       "      <td>-1.54</td>\n",
       "      <td>-1.64</td>\n",
       "      <td>1.29</td>\n",
       "      <td>0.65</td>\n",
       "      <td>...</td>\n",
       "      <td>1.15</td>\n",
       "      <td>-0.05</td>\n",
       "      <td>-0.09</td>\n",
       "      <td>0.02</td>\n",
       "      <td>1.75</td>\n",
       "      <td>1.58</td>\n",
       "      <td>0.12</td>\n",
       "      <td>0.30</td>\n",
       "      <td>2.44</td>\n",
       "      <td>-1.26</td>\n",
       "    </tr>\n",
       "    <tr>\n",
       "      <th>1</th>\n",
       "      <td>1.0</td>\n",
       "      <td>-1.40</td>\n",
       "      <td>-1.90</td>\n",
       "      <td>0.09</td>\n",
       "      <td>0.29</td>\n",
       "      <td>-0.30</td>\n",
       "      <td>-1.30</td>\n",
       "      <td>1.13</td>\n",
       "      <td>-2.38</td>\n",
       "      <td>-1.16</td>\n",
       "      <td>...</td>\n",
       "      <td>0.48</td>\n",
       "      <td>0.24</td>\n",
       "      <td>-0.16</td>\n",
       "      <td>-0.48</td>\n",
       "      <td>-0.02</td>\n",
       "      <td>-0.35</td>\n",
       "      <td>-0.27</td>\n",
       "      <td>-0.20</td>\n",
       "      <td>-0.92</td>\n",
       "      <td>-0.46</td>\n",
       "    </tr>\n",
       "    <tr>\n",
       "      <th>2</th>\n",
       "      <td>1.0</td>\n",
       "      <td>-0.43</td>\n",
       "      <td>1.45</td>\n",
       "      <td>-0.68</td>\n",
       "      <td>-1.58</td>\n",
       "      <td>0.32</td>\n",
       "      <td>-0.14</td>\n",
       "      <td>0.23</td>\n",
       "      <td>-1.01</td>\n",
       "      <td>-0.39</td>\n",
       "      <td>...</td>\n",
       "      <td>-0.94</td>\n",
       "      <td>0.11</td>\n",
       "      <td>-1.30</td>\n",
       "      <td>-0.24</td>\n",
       "      <td>0.74</td>\n",
       "      <td>0.88</td>\n",
       "      <td>1.37</td>\n",
       "      <td>0.12</td>\n",
       "      <td>0.01</td>\n",
       "      <td>-0.56</td>\n",
       "    </tr>\n",
       "    <tr>\n",
       "      <th>3</th>\n",
       "      <td>1.0</td>\n",
       "      <td>-0.76</td>\n",
       "      <td>0.30</td>\n",
       "      <td>-0.57</td>\n",
       "      <td>-0.33</td>\n",
       "      <td>-1.50</td>\n",
       "      <td>1.84</td>\n",
       "      <td>1.37</td>\n",
       "      <td>0.23</td>\n",
       "      <td>0.66</td>\n",
       "      <td>...</td>\n",
       "      <td>-0.42</td>\n",
       "      <td>0.06</td>\n",
       "      <td>-1.05</td>\n",
       "      <td>0.35</td>\n",
       "      <td>-0.24</td>\n",
       "      <td>-0.69</td>\n",
       "      <td>1.31</td>\n",
       "      <td>-0.18</td>\n",
       "      <td>-1.54</td>\n",
       "      <td>-1.70</td>\n",
       "    </tr>\n",
       "    <tr>\n",
       "      <th>4</th>\n",
       "      <td>0.0</td>\n",
       "      <td>-0.76</td>\n",
       "      <td>1.36</td>\n",
       "      <td>0.00</td>\n",
       "      <td>-1.44</td>\n",
       "      <td>-1.27</td>\n",
       "      <td>-0.76</td>\n",
       "      <td>-1.42</td>\n",
       "      <td>-0.58</td>\n",
       "      <td>0.11</td>\n",
       "      <td>...</td>\n",
       "      <td>-0.44</td>\n",
       "      <td>1.45</td>\n",
       "      <td>-1.18</td>\n",
       "      <td>-1.13</td>\n",
       "      <td>-0.14</td>\n",
       "      <td>0.04</td>\n",
       "      <td>0.33</td>\n",
       "      <td>1.20</td>\n",
       "      <td>-0.81</td>\n",
       "      <td>-1.16</td>\n",
       "    </tr>\n",
       "    <tr>\n",
       "      <th>...</th>\n",
       "      <td>...</td>\n",
       "      <td>...</td>\n",
       "      <td>...</td>\n",
       "      <td>...</td>\n",
       "      <td>...</td>\n",
       "      <td>...</td>\n",
       "      <td>...</td>\n",
       "      <td>...</td>\n",
       "      <td>...</td>\n",
       "      <td>...</td>\n",
       "      <td>...</td>\n",
       "      <td>...</td>\n",
       "      <td>...</td>\n",
       "      <td>...</td>\n",
       "      <td>...</td>\n",
       "      <td>...</td>\n",
       "      <td>...</td>\n",
       "      <td>...</td>\n",
       "      <td>...</td>\n",
       "      <td>...</td>\n",
       "      <td>...</td>\n",
       "    </tr>\n",
       "    <tr>\n",
       "      <th>8495</th>\n",
       "      <td>1.0</td>\n",
       "      <td>-1.55</td>\n",
       "      <td>-0.02</td>\n",
       "      <td>0.67</td>\n",
       "      <td>0.17</td>\n",
       "      <td>-2.17</td>\n",
       "      <td>-2.96</td>\n",
       "      <td>-0.52</td>\n",
       "      <td>0.58</td>\n",
       "      <td>-0.26</td>\n",
       "      <td>...</td>\n",
       "      <td>1.09</td>\n",
       "      <td>1.37</td>\n",
       "      <td>0.44</td>\n",
       "      <td>-0.97</td>\n",
       "      <td>-0.65</td>\n",
       "      <td>0.16</td>\n",
       "      <td>-2.17</td>\n",
       "      <td>0.39</td>\n",
       "      <td>-2.48</td>\n",
       "      <td>0.36</td>\n",
       "    </tr>\n",
       "    <tr>\n",
       "      <th>8496</th>\n",
       "      <td>0.0</td>\n",
       "      <td>0.53</td>\n",
       "      <td>-0.74</td>\n",
       "      <td>0.06</td>\n",
       "      <td>-0.76</td>\n",
       "      <td>0.20</td>\n",
       "      <td>0.02</td>\n",
       "      <td>0.75</td>\n",
       "      <td>1.53</td>\n",
       "      <td>0.34</td>\n",
       "      <td>...</td>\n",
       "      <td>-0.95</td>\n",
       "      <td>0.97</td>\n",
       "      <td>0.25</td>\n",
       "      <td>-0.93</td>\n",
       "      <td>-0.60</td>\n",
       "      <td>-0.64</td>\n",
       "      <td>0.03</td>\n",
       "      <td>-1.04</td>\n",
       "      <td>0.01</td>\n",
       "      <td>-1.04</td>\n",
       "    </tr>\n",
       "    <tr>\n",
       "      <th>8497</th>\n",
       "      <td>1.0</td>\n",
       "      <td>1.18</td>\n",
       "      <td>0.78</td>\n",
       "      <td>-0.02</td>\n",
       "      <td>1.25</td>\n",
       "      <td>-0.85</td>\n",
       "      <td>-0.50</td>\n",
       "      <td>1.19</td>\n",
       "      <td>-0.73</td>\n",
       "      <td>0.33</td>\n",
       "      <td>...</td>\n",
       "      <td>1.44</td>\n",
       "      <td>-1.57</td>\n",
       "      <td>-0.08</td>\n",
       "      <td>0.55</td>\n",
       "      <td>1.06</td>\n",
       "      <td>0.36</td>\n",
       "      <td>-0.40</td>\n",
       "      <td>-0.63</td>\n",
       "      <td>0.29</td>\n",
       "      <td>-0.96</td>\n",
       "    </tr>\n",
       "    <tr>\n",
       "      <th>8498</th>\n",
       "      <td>1.0</td>\n",
       "      <td>-0.55</td>\n",
       "      <td>1.16</td>\n",
       "      <td>-0.56</td>\n",
       "      <td>1.58</td>\n",
       "      <td>-0.06</td>\n",
       "      <td>-1.38</td>\n",
       "      <td>0.94</td>\n",
       "      <td>-0.14</td>\n",
       "      <td>0.47</td>\n",
       "      <td>...</td>\n",
       "      <td>0.11</td>\n",
       "      <td>-0.42</td>\n",
       "      <td>-0.81</td>\n",
       "      <td>-0.04</td>\n",
       "      <td>-0.11</td>\n",
       "      <td>0.42</td>\n",
       "      <td>-0.30</td>\n",
       "      <td>2.97</td>\n",
       "      <td>-2.66</td>\n",
       "      <td>-1.90</td>\n",
       "    </tr>\n",
       "    <tr>\n",
       "      <th>8499</th>\n",
       "      <td>0.0</td>\n",
       "      <td>0.80</td>\n",
       "      <td>-0.97</td>\n",
       "      <td>-0.15</td>\n",
       "      <td>-0.01</td>\n",
       "      <td>-1.57</td>\n",
       "      <td>1.02</td>\n",
       "      <td>0.34</td>\n",
       "      <td>-0.39</td>\n",
       "      <td>-0.49</td>\n",
       "      <td>...</td>\n",
       "      <td>1.79</td>\n",
       "      <td>-1.32</td>\n",
       "      <td>0.20</td>\n",
       "      <td>-1.96</td>\n",
       "      <td>-0.32</td>\n",
       "      <td>0.35</td>\n",
       "      <td>0.44</td>\n",
       "      <td>-1.58</td>\n",
       "      <td>0.35</td>\n",
       "      <td>1.06</td>\n",
       "    </tr>\n",
       "  </tbody>\n",
       "</table>\n",
       "<p>8500 rows × 201 columns</p>\n",
       "</div>"
      ],
      "text/plain": [
       "      0     1     2     3     4     5     6     7     8     9    ...   191  \\\n",
       "0     0.0 -0.36 -0.91 -0.99 -0.57 -1.38 -1.54 -1.64  1.29  0.65  ...  1.15   \n",
       "1     1.0 -1.40 -1.90  0.09  0.29 -0.30 -1.30  1.13 -2.38 -1.16  ...  0.48   \n",
       "2     1.0 -0.43  1.45 -0.68 -1.58  0.32 -0.14  0.23 -1.01 -0.39  ... -0.94   \n",
       "3     1.0 -0.76  0.30 -0.57 -0.33 -1.50  1.84  1.37  0.23  0.66  ... -0.42   \n",
       "4     0.0 -0.76  1.36  0.00 -1.44 -1.27 -0.76 -1.42 -0.58  0.11  ... -0.44   \n",
       "...   ...   ...   ...   ...   ...   ...   ...   ...   ...   ...  ...   ...   \n",
       "8495  1.0 -1.55 -0.02  0.67  0.17 -2.17 -2.96 -0.52  0.58 -0.26  ...  1.09   \n",
       "8496  0.0  0.53 -0.74  0.06 -0.76  0.20  0.02  0.75  1.53  0.34  ... -0.95   \n",
       "8497  1.0  1.18  0.78 -0.02  1.25 -0.85 -0.50  1.19 -0.73  0.33  ...  1.44   \n",
       "8498  1.0 -0.55  1.16 -0.56  1.58 -0.06 -1.38  0.94 -0.14  0.47  ...  0.11   \n",
       "8499  0.0  0.80 -0.97 -0.15 -0.01 -1.57  1.02  0.34 -0.39 -0.49  ...  1.79   \n",
       "\n",
       "       192   193   194   195   196   197   198   199   200  \n",
       "0    -0.05 -0.09  0.02  1.75  1.58  0.12  0.30  2.44 -1.26  \n",
       "1     0.24 -0.16 -0.48 -0.02 -0.35 -0.27 -0.20 -0.92 -0.46  \n",
       "2     0.11 -1.30 -0.24  0.74  0.88  1.37  0.12  0.01 -0.56  \n",
       "3     0.06 -1.05  0.35 -0.24 -0.69  1.31 -0.18 -1.54 -1.70  \n",
       "4     1.45 -1.18 -1.13 -0.14  0.04  0.33  1.20 -0.81 -1.16  \n",
       "...    ...   ...   ...   ...   ...   ...   ...   ...   ...  \n",
       "8495  1.37  0.44 -0.97 -0.65  0.16 -2.17  0.39 -2.48  0.36  \n",
       "8496  0.97  0.25 -0.93 -0.60 -0.64  0.03 -1.04  0.01 -1.04  \n",
       "8497 -1.57 -0.08  0.55  1.06  0.36 -0.40 -0.63  0.29 -0.96  \n",
       "8498 -0.42 -0.81 -0.04 -0.11  0.42 -0.30  2.97 -2.66 -1.90  \n",
       "8499 -1.32  0.20 -1.96 -0.32  0.35  0.44 -1.58  0.35  1.06  \n",
       "\n",
       "[8500 rows x 201 columns]"
      ]
     },
     "metadata": {},
     "output_type": "display_data"
    },
    {
     "name": "stdout",
     "output_type": "stream",
     "text": [
      "features_train.shape:  (4000, 200)\n",
      "labels_train.shape:  (4000,)\n",
      "features_val.shape:  (4499, 200)\n",
      "labels_val.shape:  (4499,)\n",
      "features_test.shape:  (1500, 200)\n",
      "labels_test.shape:  (1500,)\n"
     ]
    }
   ],
   "source": [
    "train_val_df = pd.read_csv('train.csv', header = None)\n",
    "display(train_val_df)\n",
    "train = train_val_df[:4000].to_numpy()\n",
    "X_train = train[:,1:]\n",
    "Y_train = train[:,0]\n",
    "Y_train[np.where(Y_train == 0)] = -1 # negative label 0 to -1\n",
    "print('features_train.shape: ',X_train.shape)\n",
    "print('labels_train.shape: ',Y_train.shape)\n",
    "\n",
    "validation = train_val_df[4001:].to_numpy()\n",
    "X_val = validation[:,1:]\n",
    "Y_val = validation[:,0]\n",
    "Y_val[np.where(Y_val == 0)] = -1 # negative label 0 to -1\n",
    "print('features_val.shape: ',X_val.shape)\n",
    "print('labels_val.shape: ',Y_val.shape)\n",
    "\n",
    "test_df = pd.read_csv('test.csv',header = None)\n",
    "test = test_df.to_numpy()\n",
    "X_test = test[:,1:]\n",
    "Y_test = test[:,0]\n",
    "Y_test[np.where(Y_test == 0)] = -1 # negative label 0 to -1\n",
    "print('features_test.shape: ',X_test.shape)\n",
    "print('labels_test.shape: ',Y_test.shape)"
   ]
  },
  {
   "cell_type": "code",
   "execution_count": 4,
   "id": "5049c5e2",
   "metadata": {},
   "outputs": [
    {
     "name": "stdout",
     "output_type": "stream",
     "text": [
      "[[-0.36 -0.91 -0.99 ...  0.3   2.44 -1.26]\n",
      " [-1.4  -1.9   0.09 ... -0.2  -0.92 -0.46]\n",
      " [-0.43  1.45 -0.68 ...  0.12  0.01 -0.56]\n",
      " ...\n",
      " [-0.57  0.14 -0.62 ...  0.    0.38 -0.82]\n",
      " [ 0.4   0.16 -0.49 ...  0.89  0.21  1.09]\n",
      " [ 0.86 -0.23 -2.01 ...  0.21  0.68  2.49]]\n"
     ]
    }
   ],
   "source": [
    "print(X_train) #just double check "
   ]
  },
  {
   "cell_type": "code",
   "execution_count": 5,
   "id": "e569346b",
   "metadata": {},
   "outputs": [
    {
     "name": "stdout",
     "output_type": "stream",
     "text": [
      "[-0.36 -0.91 -0.99 -0.57 -1.38 -1.54 -1.64  1.29  0.65 -0.75  1.11 -0.04\n",
      "  1.86  0.76 -0.67  0.75  0.07  0.31  1.23 -0.7  -0.31 -1.48  0.11 -1.18\n",
      "  0.78  0.48  0.85  2.11 -1.45  0.74 -0.54  1.31  0.64 -1.42  1.22 -1.35\n",
      "  0.4  -0.72 -0.79  0.8   0.32 -0.76  0.22  2.59 -0.64  1.27  0.66  1.8\n",
      "  0.77  1.13 -1.69 -1.31  1.66 -0.26 -0.17 -0.41 -0.8   1.24 -1.51 -1.45\n",
      " -1.07 -1.38 -0.92 -1.26 -2.02  0.58 -0.58 -1.06 -0.05  0.29 -1.72 -0.26\n",
      " -1.67 -0.07  0.81  0.01 -0.22  1.72  0.43  0.92 -0.68 -0.98 -1.12 -0.81\n",
      " -0.79  1.72 -1.33 -1.08 -1.37 -1.75 -0.9  -0.76 -1.33  0.37  0.25  0.24\n",
      "  0.33 -0.72 -1.05 -0.47 -0.44 -0.89  0.01 -1.29 -1.79 -0.39 -1.03  0.29\n",
      "  1.2   0.62 -0.19 -1.3  -0.29  2.5   2.01  0.75 -0.53  1.61 -1.62 -0.33\n",
      " -0.93 -0.79  0.89 -0.64  0.13  0.97  0.37  0.22  0.97 -0.29  1.5  -0.42\n",
      "  0.62  1.43  0.55 -1.23 -1.83  2.13 -0.06  0.76  0.63  0.58  1.92  0.03\n",
      "  0.69  0.6   1.18  0.54  0.03 -2.2   1.85 -0.78  2.04 -0.82 -0.14 -1.3\n",
      "  0.84  0.63 -0.44 -1.79  0.16  1.34  0.57 -1.01  1.19  0.43 -0.42  0.05\n",
      " -1.18  1.22  0.19  0.69 -2.78 -0.53 -1.16 -2.29  0.45 -0.12  0.84 -0.6\n",
      "  1.54 -0.32 -0.4  -0.45  1.21 -0.7   0.81  0.81  1.21 -2.44  1.15 -0.05\n",
      " -0.09  0.02  1.75  1.58  0.12  0.3   2.44 -1.26]\n"
     ]
    }
   ],
   "source": [
    "print(X_train[0])"
   ]
  },
  {
   "cell_type": "markdown",
   "id": "2633c6e4",
   "metadata": {},
   "source": [
    "# Primal"
   ]
  },
  {
   "cell_type": "code",
   "execution_count": 6,
   "id": "e55fc7d2",
   "metadata": {},
   "outputs": [],
   "source": [
    "class svm_model:\n",
    "    def __init__(self,W,b,loss = None,A = None):\n",
    "        self.W = W\n",
    "        self.b = b\n",
    "        self.Psi = loss\n",
    "        self.Alpha = A\n",
    "        return"
   ]
  },
  {
   "cell_type": "code",
   "execution_count": 7,
   "id": "95539604",
   "metadata": {},
   "outputs": [],
   "source": [
    "def svm_predict_primal(data_test, label_test, svm_model):\n",
    "    W = svm_model.W\n",
    "    b = svm_model.b\n",
    "    X = data_test\n",
    "    y = label_test\n",
    "    \n",
    "    total = data_test.shape[0]\n",
    "    \n",
    "    res = np.multiply(X @ W + b, y)\n",
    "    correct = len(np.where(res > 1e-4)[0]) #label*res to check whether they are the same sign\n",
    "    acc = correct/total\n",
    "    return acc"
   ]
  },
  {
   "cell_type": "code",
   "execution_count": 25,
   "id": "955d9784",
   "metadata": {},
   "outputs": [
    {
     "name": "stdout",
     "output_type": "stream",
     "text": [
      "Status:  optimal\n",
      "The sum of W*:  -0.1452156803361282\n",
      "b*:             1.779813717087077 \n",
      "\n",
      "Accuracy on the test set: 96.8%\n"
     ]
    }
   ],
   "source": [
    "def svm_train_primal(data_train, label_train, regularisation_para_C):\n",
    "    X_train = data_train\n",
    "    Y_train = label_train\n",
    "    \n",
    "    m,n = X_train.shape #m: number of samples, n: number of features\n",
    "    W = cp.Variable(n) # w: n*1\n",
    "    Psi = cp.Variable(m) # Psi: m*1, hinge loss, slack variable\n",
    "    b = cp.Variable() # b is a scalar parameter\n",
    "    C = regularisation_para_C # Hyper-parameter, control softness trade-off of the margin\n",
    "\n",
    "    # Objective in primal problem: \n",
    "    objective = cp.Minimize(0.5 * cp.sum_squares(cp.norm(W)) + (C/m) * cp.sum(Psi)) ####c/n\n",
    "\n",
    "    # Constraints in primal problem:\n",
    "    constraints = [cp.multiply(Y_train,X_train @ W + b) -1 + Psi >= 0, Psi >= 0]\n",
    "\n",
    "    # Solve constrained convex optimization\n",
    "    prob = cp.Problem(objective, constraints)\n",
    "    prob.solve()\n",
    "    \n",
    "    # Show results\n",
    "    print('Status: ', prob.status)\n",
    "    #print('W*: ', W.value)\n",
    "    print('The sum of W*: ', np.sum(W.value))\n",
    "    print('b*:            ', b.value,'\\n')\n",
    "    \n",
    "    # Create svm prime model:\n",
    "    prime_model = svm_model(W.value,b.value,loss = Psi.value)\n",
    "    return prime_model\n",
    "\n",
    "\n",
    "# The I/O format requested in the assignment description\n",
    "prime_model = svm_train_primal(X_train, Y_train, 100)\n",
    "test_accuracy = svm_predict_primal(X_test,Y_test,prime_model)\n",
    "print(f'Accuracy on the test set: {test_accuracy*100}%')"
   ]
  },
  {
   "cell_type": "markdown",
   "id": "30c05c7a",
   "metadata": {},
   "source": [
    "# Dual"
   ]
  },
  {
   "cell_type": "code",
   "execution_count": 9,
   "id": "d9ade578",
   "metadata": {},
   "outputs": [
    {
     "name": "stdout",
     "output_type": "stream",
     "text": [
      "Status:  optimal\n",
      "The sum of Alpha*:  7.28163240568506\n",
      "The sum of dual W*:  -0.1452157032864848\n",
      "Dual b*:             1.7942996486309701 \n",
      "\n",
      "Accuracy on the test set: 96.8%\n"
     ]
    }
   ],
   "source": [
    "def svm_train_dual(data_train, label_train, regularisation_para_C):\n",
    "    X_train = data_train\n",
    "    Y_train = label_train\n",
    "    C = regularisation_para_C\n",
    "    \n",
    "    m,n = X_train.shape #m: number of samples, n: number of features\n",
    "    Alpha = cp.Variable(m) # Alpha: size m, Lagrange multiplier\n",
    "    \n",
    "    # Objective in dual problem:\n",
    "    dual_objective = cp.Maximize(cp.sum(Alpha) - 0.5*cp.sum_squares(cp.multiply(Alpha,Y_train) @ X_train))\n",
    "    \n",
    "    \n",
    "    #Constraints in dual problem:\n",
    "    dual_constraints = [Alpha >= 0, Alpha <= (C/m), Alpha.T @ Y_train == 0] ##c/sample num\n",
    "    \n",
    "    # Solve constrained convex optimization\n",
    "    dual_prob = cp.Problem(dual_objective, dual_constraints)\n",
    "    # dual_prob.solve(verbose=True)\n",
    "    \n",
    "    #solvers will fail when the numerical data is very large or very small, which can lead to what's known as poorly conditioned problem data\n",
    "    dual_prob.solve(solver=cp.ECOS) #using the ECOS solver solved the OSQP Error\n",
    "\n",
    "\n",
    "    # Show results\n",
    "    print('Status: ', dual_prob.status)\n",
    "    print('The sum of Alpha*: ', np.sum(Alpha.value))\n",
    "\n",
    "    # Calculate W* and b* from dual problem\n",
    "    dual_W = X_train.T @ np.multiply(Alpha.value,Y_train)\n",
    "    dual_b = np.mean(Y_train - X_train @ dual_W)\n",
    "    print('The sum of dual W*: ', np.sum(dual_W))\n",
    "    print('Dual b*:            ', dual_b,'\\n')\n",
    "\n",
    "    \n",
    "    # Create svm dual model:\n",
    "    dual_model = svm_model(dual_W,dual_b,loss = None,A = Alpha.value)\n",
    "    return dual_model\n",
    "\n",
    "\n",
    "\n",
    "# The I/O format requested in the assignment description\n",
    "dual_model = svm_train_dual(X_train, Y_train, 100)\n",
    "\n",
    "# The 'svm_predict_primal()' below works for dual derived W and b as well. \n",
    "#The name of this function is fixed in the assignment requirement,\n",
    "#so I couldn't change it, even though it's an ambiguious name\n",
    "test_accuracy = svm_predict_primal(X_test,Y_test,dual_model) \n",
    "\n",
    "print(f'Accuracy on the test set: {test_accuracy*100}%')"
   ]
  },
  {
   "cell_type": "markdown",
   "id": "38fb04bd",
   "metadata": {},
   "source": [
    "# Support Vectors Primal Problem"
   ]
  },
  {
   "cell_type": "code",
   "execution_count": 10,
   "id": "abf3593a",
   "metadata": {},
   "outputs": [
    {
     "name": "stdout",
     "output_type": "stream",
     "text": [
      "There are 392 support vectors:\n",
      "\n",
      "[[-0.36 -0.91 -0.99 ...  0.3   2.44 -1.26]\n",
      " [ 1.05 -1.79  0.9  ...  0.39  0.6  -1.66]\n",
      " [ 1.01 -1.13  1.49 ...  0.23 -0.3  -0.01]\n",
      " ...\n",
      " [ 2.16 -0.78 -0.78 ... -0.38  1.1   0.39]\n",
      " [ 0.36 -0.19 -1.06 ... -0.83 -0.2   0.12]\n",
      " [-0.73 -1.19 -0.24 ...  1.46 -1.36  1.21]] \n",
      "\n",
      "The index of support vectors in prime: \n",
      " [0, 16, 28, 29, 41, 54, 58, 68, 80, 88, 127, 130, 140, 145, 147, 150, 199, 208, 239, 253, 263, 266, 275, 281, 284, 296, 305, 307, 332, 344, 356, 377, 395, 401, 403, 405, 414, 420, 424, 432, 433, 441, 446, 450, 473, 479, 495, 510, 521, 525, 532, 547, 561, 563, 564, 567, 576, 581, 587, 595, 604, 610, 637, 642, 656, 660, 678, 703, 708, 709, 725, 736, 737, 752, 768, 774, 796, 799, 809, 816, 821, 826, 834, 843, 844, 856, 861, 873, 905, 909, 932, 935, 948, 965, 967, 988, 989, 993, 1003, 1017, 1022, 1050, 1082, 1098, 1116, 1123, 1139, 1142, 1166, 1167, 1178, 1179, 1188, 1219, 1242, 1266, 1274, 1295, 1304, 1320, 1364, 1371, 1374, 1377, 1403, 1406, 1407, 1414, 1416, 1437, 1447, 1474, 1475, 1478, 1489, 1492, 1493, 1531, 1532, 1536, 1539, 1555, 1571, 1592, 1594, 1598, 1604, 1616, 1627, 1635, 1636, 1651, 1659, 1664, 1667, 1672, 1675, 1680, 1683, 1684, 1691, 1692, 1705, 1706, 1722, 1724, 1737, 1775, 1778, 1780, 1799, 1825, 1833, 1835, 1840, 1848, 1851, 1852, 1854, 1859, 1862, 1864, 1865, 1869, 1884, 1886, 1889, 1890, 1900, 1921, 1924, 1957, 1964, 1972, 1982, 1993, 2012, 2021, 2032, 2035, 2039, 2047, 2049, 2051, 2064, 2066, 2070, 2088, 2099, 2100, 2108, 2112, 2132, 2136, 2145, 2167, 2186, 2189, 2215, 2249, 2257, 2263, 2269, 2278, 2281, 2283, 2288, 2289, 2306, 2309, 2316, 2352, 2356, 2360, 2361, 2374, 2390, 2406, 2407, 2416, 2436, 2438, 2446, 2452, 2458, 2482, 2490, 2497, 2513, 2518, 2544, 2546, 2550, 2558, 2570, 2575, 2620, 2622, 2624, 2642, 2645, 2647, 2648, 2658, 2688, 2691, 2699, 2703, 2705, 2711, 2715, 2718, 2725, 2728, 2734, 2751, 2770, 2813, 2817, 2857, 2861, 2874, 2876, 2885, 2902, 2905, 2910, 2919, 2925, 2937, 2945, 2953, 2964, 2978, 2998, 3003, 3014, 3018, 3052, 3056, 3066, 3072, 3079, 3082, 3083, 3099, 3111, 3127, 3145, 3159, 3165, 3180, 3188, 3198, 3203, 3205, 3212, 3216, 3232, 3244, 3248, 3284, 3297, 3326, 3362, 3364, 3369, 3371, 3372, 3376, 3389, 3397, 3404, 3414, 3423, 3429, 3456, 3462, 3465, 3467, 3472, 3481, 3483, 3485, 3510, 3517, 3519, 3533, 3535, 3558, 3562, 3564, 3575, 3588, 3589, 3596, 3599, 3607, 3611, 3613, 3649, 3651, 3659, 3672, 3684, 3687, 3712, 3725, 3734, 3735, 3740, 3752, 3772, 3809, 3811, 3835, 3844, 3845, 3846, 3869, 3893, 3905, 3916, 3925, 3930, 3942, 3950, 3953, 3969, 3985, 3990, 3991]\n"
     ]
    }
   ],
   "source": [
    "# Soft-Margin Support Vectors must satisfy: yi(W^*T @ Xi + b) = 1 - Psi\n",
    "\n",
    "#get the values from prime model\n",
    "W = prime_model.W\n",
    "b = prime_model.b\n",
    "Psi = prime_model.Psi\n",
    "\n",
    "prime_sv_idx = []\n",
    "for i in range(X_train.shape[0]): #iterate through each sample\n",
    "    X_i = X_train[i]\n",
    "    y_i = Y_train[i]\n",
    "    loss_i = Psi[i]\n",
    "        \n",
    "    res = y_i * (X_i @ W + b) -1 + loss_i\n",
    "    # to solve the precision problem, changed '== 0'  to a range around +-1e-4\n",
    "    if res < 1e-4 and res > -1e-4:  \n",
    "        prime_sv_idx.append(i)\n",
    "\n",
    "prime_sv = X_train[prime_sv_idx]\n",
    "print(f'There are {len(prime_sv_idx)} support vectors:\\n')\n",
    "print(prime_sv,'\\n')\n",
    "print(f'The index of support vectors in prime: \\n {prime_sv_idx}')"
   ]
  },
  {
   "cell_type": "markdown",
   "id": "64de399c",
   "metadata": {},
   "source": [
    "# Support Vectors Dual Problem"
   ]
  },
  {
   "cell_type": "code",
   "execution_count": 21,
   "id": "da7d2df5",
   "metadata": {},
   "outputs": [
    {
     "name": "stdout",
     "output_type": "stream",
     "text": [
      "There are 392 support vectors:\n",
      "\n",
      "[[-0.36 -0.91 -0.99 ...  0.3   2.44 -1.26]\n",
      " [ 1.05 -1.79  0.9  ...  0.39  0.6  -1.66]\n",
      " [ 1.01 -1.13  1.49 ...  0.23 -0.3  -0.01]\n",
      " ...\n",
      " [ 2.16 -0.78 -0.78 ... -0.38  1.1   0.39]\n",
      " [ 0.36 -0.19 -1.06 ... -0.83 -0.2   0.12]\n",
      " [-0.73 -1.19 -0.24 ...  1.46 -1.36  1.21]] \n",
      "\n",
      "The index of support vectors in dual: \n",
      " [0, 16, 28, 29, 41, 54, 58, 68, 80, 88, 127, 130, 140, 145, 147, 150, 199, 208, 239, 253, 263, 266, 275, 281, 284, 296, 305, 307, 332, 344, 356, 377, 395, 401, 403, 405, 414, 420, 424, 432, 433, 441, 446, 450, 473, 479, 495, 510, 521, 525, 532, 547, 561, 563, 564, 567, 576, 581, 587, 595, 604, 610, 637, 642, 656, 660, 678, 703, 708, 709, 725, 736, 737, 752, 768, 774, 796, 799, 809, 816, 821, 826, 834, 843, 844, 856, 861, 873, 905, 909, 932, 935, 948, 965, 967, 988, 989, 993, 1003, 1017, 1022, 1050, 1082, 1098, 1116, 1123, 1139, 1142, 1166, 1167, 1178, 1179, 1188, 1219, 1242, 1266, 1274, 1295, 1304, 1320, 1364, 1371, 1374, 1377, 1403, 1406, 1407, 1414, 1416, 1437, 1447, 1474, 1475, 1478, 1489, 1492, 1493, 1531, 1532, 1536, 1539, 1555, 1571, 1592, 1594, 1598, 1604, 1616, 1627, 1635, 1636, 1651, 1659, 1664, 1667, 1672, 1675, 1680, 1683, 1684, 1691, 1692, 1705, 1706, 1722, 1724, 1737, 1775, 1778, 1780, 1799, 1825, 1833, 1835, 1840, 1848, 1851, 1852, 1854, 1859, 1862, 1864, 1865, 1869, 1884, 1886, 1889, 1890, 1900, 1921, 1924, 1957, 1964, 1972, 1982, 1993, 2012, 2021, 2032, 2035, 2039, 2047, 2049, 2051, 2064, 2066, 2070, 2088, 2099, 2100, 2108, 2112, 2132, 2136, 2145, 2167, 2186, 2189, 2215, 2249, 2257, 2263, 2269, 2278, 2281, 2283, 2288, 2289, 2306, 2309, 2316, 2352, 2356, 2360, 2361, 2374, 2390, 2406, 2407, 2416, 2436, 2438, 2446, 2452, 2458, 2482, 2490, 2497, 2513, 2518, 2544, 2546, 2550, 2558, 2570, 2575, 2620, 2622, 2624, 2642, 2645, 2647, 2648, 2658, 2688, 2691, 2699, 2703, 2705, 2711, 2715, 2718, 2725, 2728, 2734, 2751, 2770, 2813, 2817, 2857, 2861, 2874, 2876, 2885, 2902, 2905, 2910, 2919, 2925, 2937, 2945, 2953, 2964, 2978, 2998, 3003, 3014, 3018, 3052, 3056, 3066, 3072, 3079, 3082, 3083, 3099, 3111, 3127, 3145, 3159, 3165, 3180, 3188, 3198, 3203, 3205, 3212, 3216, 3232, 3244, 3248, 3284, 3297, 3326, 3362, 3364, 3369, 3371, 3372, 3376, 3389, 3397, 3404, 3414, 3423, 3429, 3456, 3462, 3465, 3467, 3472, 3481, 3483, 3485, 3510, 3517, 3519, 3533, 3535, 3558, 3562, 3564, 3575, 3588, 3589, 3596, 3599, 3607, 3611, 3613, 3649, 3651, 3659, 3672, 3684, 3687, 3712, 3725, 3734, 3735, 3740, 3752, 3772, 3809, 3811, 3835, 3844, 3845, 3846, 3869, 3893, 3905, 3916, 3925, 3930, 3942, 3950, 3953, 3969, 3985, 3990, 3991]\n"
     ]
    }
   ],
   "source": [
    "# In dual problem, only the samples that associated with a positive Lagranian coefficient \n",
    "# (i.e. Alpha[i] > 0) can have effect on the decision boundary. These samples are the support vectors.\n",
    "\n",
    "Alpha = dual_model.Alpha\n",
    "\n",
    "dual_sv_idx = []\n",
    "for i in range(X_train.shape[0]):\n",
    "    if Alpha[i] > 1e-4:\n",
    "        dual_sv_idx.append(i)\n",
    "\n",
    "dual_sv = X_train[dual_sv_idx]\n",
    "print(f'There are {len(dual_sv_idx)} support vectors:\\n')\n",
    "print(dual_sv,'\\n')\n",
    "print(f'The index of support vectors in dual: \\n {dual_sv_idx}')"
   ]
  },
  {
   "cell_type": "markdown",
   "id": "b3937889",
   "metadata": {},
   "source": [
    "# Q5. Hyper-parameter 'C' Tuning Utilizing Validation Set"
   ]
  },
  {
   "cell_type": "code",
   "execution_count": 26,
   "id": "9dbb2c34",
   "metadata": {},
   "outputs": [
    {
     "name": "stderr",
     "output_type": "stream",
     "text": [
      "d:\\anaconda3\\lib\\site-packages\\cvxpy\\problems\\problem.py:1337: UserWarning: Solution may be inaccurate. Try another solver, adjusting the solver settings, or solve with verbose=True for more information.\n",
      "  warnings.warn(\n"
     ]
    },
    {
     "name": "stdout",
     "output_type": "stream",
     "text": [
      "Status:  optimal_inaccurate\n",
      "The sum of W*:  0.00025768720168650424\n",
      "b*:             0.3975700168285553 \n",
      "\n",
      "C = 2^(-10) validation accuracy: 49.09979995554568%\n",
      "--------------------------------------------\n",
      "Status:  optimal\n",
      "The sum of W*:  0.001018431458808717\n",
      "b*:             0.9491146973216334 \n",
      "\n",
      "C = 2^(-8) validation accuracy: 49.09979995554568%\n",
      "--------------------------------------------\n",
      "Status:  optimal\n",
      "The sum of W*:  0.004074508427878487\n",
      "b*:             0.7964686784653918 \n",
      "\n",
      "C = 2^(-6) validation accuracy: 49.09979995554568%\n",
      "--------------------------------------------\n",
      "Status:  optimal\n",
      "The sum of W*:  0.009485958765916944\n",
      "b*:             0.33673963217431 \n",
      "\n",
      "C = 2^(-4) validation accuracy: 92.44276505890198%\n",
      "--------------------------------------------\n",
      "Status:  optimal\n",
      "The sum of W*:  -0.01876808041378697\n",
      "b*:             0.50062747239116 \n",
      "\n",
      "C = 2^(-2) validation accuracy: 96.22138252945099%\n",
      "--------------------------------------------\n",
      "Status:  optimal\n",
      "The sum of W*:  -0.08009345876340557\n",
      "b*:             0.6779831450796824 \n",
      "\n",
      "C = 2^(0) validation accuracy: 97.17715047788398%\n",
      "--------------------------------------------\n",
      "Status:  optimal\n",
      "The sum of W*:  -0.09799142609364914\n",
      "b*:             0.9130704080137506 \n",
      "\n",
      "C = 2^(2) validation accuracy: 97.48833074016449%\n",
      "--------------------------------------------\n",
      "Status:  optimal\n",
      "The sum of W*:  -0.23126597418146339\n",
      "b*:             1.2761393758705935 \n",
      "\n",
      "C = 2^(4) validation accuracy: 97.39942209379862%\n",
      "--------------------------------------------\n",
      "Status:  optimal\n",
      "The sum of W*:  -0.06691532625610219\n",
      "b*:             1.6515083137107895 \n",
      "\n",
      "C = 2^(6) validation accuracy: 97.13269615470105%\n",
      "--------------------------------------------\n",
      "Status:  optimal\n",
      "The sum of W*:  -0.5697580787205915\n",
      "b*:             2.175596789589616 \n",
      "\n",
      "C = 2^(8) validation accuracy: 96.59924427650589%\n",
      "--------------------------------------------\n",
      "Status:  optimal\n",
      "The sum of W*:  -0.5414191179747649\n",
      "b*:             2.573993935133974 \n",
      "\n",
      "C = 2^(10) validation accuracy: 96.26583685263392%\n",
      "--------------------------------------------\n",
      "Best C is  2^(2) , which  gives 97.48833074016449% accuracy.\n",
      "\n"
     ]
    },
    {
     "data": {
      "image/png": "[encoded data removed]",
      "text/plain": [
       "<Figure size 432x288 with 1 Axes>"
      ]
     },
     "metadata": {
      "needs_background": "light"
     },
     "output_type": "display_data"
    },
    {
     "name": "stdout",
     "output_type": "stream",
     "text": [
      "Test set performance:\n",
      "Status:  optimal\n",
      "The sum of W*:  -0.09799142609364914\n",
      "b*:             0.9130704080137506 \n",
      "\n",
      "C = 2^(2) gives accuracy: 97.46666666666667% on the test set.\n"
     ]
    }
   ],
   "source": [
    "import matplotlib.pyplot as plt\n",
    "\n",
    "# Create hyper-parameter search space c = [2^-10, 2^-8, ...,2^8, 2^10]\n",
    "expo = np.linspace(-10,10,num = 11)\n",
    "C_lst = [2**(ex) for ex in expo]\n",
    "str_lst = ['2^('+str(int(ex))+')' for ex in expo]\n",
    "C_dict = dict(zip(str_lst,C_lst))\n",
    "\n",
    "#initializing\n",
    "best_score = 0\n",
    "best_C_idx = 0\n",
    "acc_lst = []\n",
    "#find best C on validation set\n",
    "for i,(C_str,C) in enumerate(C_dict.items()):\n",
    "    p_model = svm_train_primal(X_train, Y_train, C) #create svm model for new C\n",
    "    val_accuracy = svm_predict_primal(X_val,Y_val,p_model)\n",
    "    print(f'C = {C_str} validation accuracy: {val_accuracy*100}%')\n",
    "    acc_lst.append(val_accuracy)\n",
    "    if val_accuracy > best_score:\n",
    "        best_score = val_accuracy\n",
    "        best_C_idx = i #keep the best one\n",
    "    print('--------------------------------------------')\n",
    "        \n",
    "print('Best C is ',str_lst[best_C_idx], f', which  gives {best_score*100}% accuracy.\\n')\n",
    "plt.plot(C_lst,acc_lst)\n",
    "plt.xlabel('C values')\n",
    "plt.ylabel('Validation accuracy')\n",
    "plt.title('C values vs Validation Accuracy')\n",
    "plt.show()\n",
    "\n",
    "# Optimal C performance on the test set\n",
    "print('Test set performance:')\n",
    "test_model = svm_train_primal(X_train, Y_train, C_lst[best_C_idx])\n",
    "test_accuracy = svm_predict_primal(X_test,Y_test,test_model)\n",
    "print(f'C = {str_lst[best_C_idx]} gives accuracy: {test_accuracy*100}% on the test set.')"
   ]
  },
  {
   "cell_type": "code",
   "execution_count": 27,
   "id": "8b9f3244",
   "metadata": {},
   "outputs": [
    {
     "data": {
      "image/png": "[encoded data removed]",
      "text/plain": [
       "<Figure size 432x288 with 1 Axes>"
      ]
     },
     "metadata": {
      "needs_background": "light"
     },
     "output_type": "display_data"
    }
   ],
   "source": [
    "plt.plot(C_lst,acc_lst)\n",
    "plt.xlabel('C values (log scale)')\n",
    "plt.ylabel('Validation accuracy')\n",
    "plt.xscale(\"log\")\n",
    "plt.title('C values vs Validation Accuracy')\n",
    "plt.show()"
   ]
  },
  {
   "cell_type": "markdown",
   "id": "fff1b76a",
   "metadata": {},
   "source": [
    "# Q6. Sklearn SVM"
   ]
  },
  {
   "cell_type": "code",
   "execution_count": 19,
   "id": "6f483177",
   "metadata": {},
   "outputs": [
    {
     "name": "stdout",
     "output_type": "stream",
     "text": [
      "0.24.2\n"
     ]
    }
   ],
   "source": [
    "import sklearn\n",
    "print(sklearn.__version__)"
   ]
  },
  {
   "cell_type": "code",
   "execution_count": 23,
   "id": "bea875fa",
   "metadata": {},
   "outputs": [
    {
     "name": "stdout",
     "output_type": "stream",
     "text": [
      "Test accuracy: 96.66666666666667%\n",
      "sum of W*:  -0.03860344484587469\n",
      "b*:  0.29306619973990966\n"
     ]
    }
   ],
   "source": [
    "from sklearn import svm\n",
    "\n",
    "# Using the best C in Q5\n",
    "clf = svm.LinearSVC(C = C_lst[best_C_idx]/X_train.shape[0])\n",
    "clf.fit(X_train, Y_train)\n",
    "score = clf.score(X_test,Y_test)\n",
    "print(f'Test accuracy: {score*100}%')\n",
    "print('sum of W*: ',np.sum(clf.coef_))\n",
    "print('b*:        ',clf.intercept_[0])"
   ]
  },
  {
   "cell_type": "code",
   "execution_count": 29,
   "id": "df4b0b78",
   "metadata": {},
   "outputs": [
    {
     "data": {
      "text/plain": [
       "[2.44140625e-07,\n",
       " 9.765625e-07,\n",
       " 3.90625e-06,\n",
       " 1.5625e-05,\n",
       " 6.25e-05,\n",
       " 0.00025,\n",
       " 0.001,\n",
       " 0.004,\n",
       " 0.016,\n",
       " 0.064,\n",
       " 0.256]"
      ]
     },
     "execution_count": 29,
     "metadata": {},
     "output_type": "execute_result"
    }
   ],
   "source": [
    "# The search grid for C needs to be divided by the sample number\n",
    "[ele/X_train.shape[0] for ele in C_lst]"
   ]
  },
  {
   "cell_type": "code",
   "execution_count": 40,
   "id": "bbc214e1",
   "metadata": {},
   "outputs": [
    {
     "name": "stdout",
     "output_type": "stream",
     "text": [
      "Training set labels distribution: {-1.0: 1958, 1.0: 2042}, pos:neg = 1.0429009193054137\n",
      "\n",
      "Validation set labels distribution: {-1.0: 2290, 1.0: 2209}, pos:neg = 0.9646288209606987\n",
      "\n"
     ]
    }
   ],
   "source": [
    "#Check whether the labels are balanced\n",
    "train_unique, train_counts = np.unique(Y_train, return_counts=True)\n",
    "val_unique, val_counts = np.unique(Y_val, return_counts=True)\n",
    "\n",
    "train_dict = dict(zip(train_unique, train_counts))\n",
    "val_dict = dict(zip(val_unique, val_counts))\n",
    "\n",
    "print(f'Training set labels distribution: {train_dict}, pos:neg = {train_dict[1.0]/train_dict[-1.0]}\\n')\n",
    "print(f'Validation set labels distribution: {val_dict}, pos:neg = {val_dict[1.0]/val_dict[-1.0]}\\n')"
   ]
  },
  {
   "cell_type": "markdown",
   "id": "6ea01429",
   "metadata": {},
   "source": [
    "This is not bad"
   ]
  },
  {
   "cell_type": "markdown",
   "id": "7b0d5f9d",
   "metadata": {},
   "source": [
    "### Grid Search find C"
   ]
  },
  {
   "cell_type": "code",
   "execution_count": 43,
   "id": "1e7bad49",
   "metadata": {},
   "outputs": [
    {
     "name": "stdout",
     "output_type": "stream",
     "text": [
      "Fitting 5 folds for each of 11 candidates, totalling 55 fits\n",
      "Best Para in Sklearn model: {'C': 0.004}, the corresponding C in last qustion: 16.0\n",
      "\n",
      "Test accuracy: 96.8%\n",
      "sum of W*:  -0.08312181246869857\n",
      "b*:         0.5394102610170345\n"
     ]
    }
   ],
   "source": [
    "# Using the grid search to find optimal C for SKlearn model\n",
    "from sklearn.model_selection import GridSearchCV\n",
    "\n",
    "C_grid_lst = [ele/X_train.shape[0] for ele in C_lst]\n",
    "# Create the parameter grid based on the results of random search\n",
    "param_grid = {\n",
    "    'C': C_grid_lst,\n",
    "}\n",
    "\n",
    "\n",
    "# Create a based model\n",
    "clf = svm.LinearSVC()\n",
    "\n",
    "# Instantiate the grid search model\n",
    "grid_search = GridSearchCV(estimator = clf, param_grid = param_grid, scoring = 'accuracy',\n",
    "                          cv = 5, n_jobs = -1, verbose = 2) #to be consistent as last qustion, using accuracy as the metric\n",
    "grid_search.fit(X_val, Y_val)\n",
    "\n",
    "print(f'Best Para in Sklearn model: {grid_search.best_params_}, the corresponding C in last qustion: {list(grid_search.best_params_.values())[0]*X_train.shape[0]}\\n')\n",
    "\n",
    "#creat svm model using optimal paras\n",
    "svm_star = svm.LinearSVC(C=grid_search.best_params_['C'])\n",
    "#t fit train set\n",
    "svm_star.fit(X_train, Y_train)\n",
    "\n",
    "# Performance\n",
    "score = svm_star.score(X_test,Y_test)\n",
    "print(f'Test accuracy: {score*100}%')\n",
    "print('sum of W*: ',np.sum(svm_star.coef_))\n",
    "print('b*:        ',svm_star.intercept_[0])"
   ]
  },
  {
   "cell_type": "markdown",
   "id": "e120b5db",
   "metadata": {},
   "source": [
    "The best parameter of C is slightly different from last question, because Q5 is trained on traing set and find the C that yields the highest accuracy on the validation set. This Q6 is using 5 folds cross validation to find the best C using the validation set only. Different dataset may lead to a slightly different result."
   ]
  },
  {
   "cell_type": "code",
   "execution_count": 45,
   "id": "5f3d11db",
   "metadata": {},
   "outputs": [
    {
     "name": "stdout",
     "output_type": "stream",
     "text": [
      "Val + Train set labels distribution: {-1.0: 2290, 1.0: 2209}, pos:neg = 1.0007062146892656\n",
      "\n"
     ]
    }
   ],
   "source": [
    "print(f'Val + Train set labels distribution: {val_dict}, pos:neg = {(train_dict[1.0] + val_dict[1.0])/(train_dict[-1.0] + val_dict[-1.0])}\\n')"
   ]
  },
  {
   "cell_type": "markdown",
   "id": "7ec77413",
   "metadata": {},
   "source": [
    "In Q5, we used both of the training set and validation set, if we use both of them, as shown in the distribution result above, pos samples and the neg samples are well distributed compared to only using one set only. Therefore, using validation set only is slightly unbalanced compared to using both of train and val. To solve the unbalanced dataset problem, we need to change the scoring metric from 'accuracy' to 'roc_auc'. (Usually in a real-life project, we split the train,val,test in a balanced way in advance, which means in this assignment train an val both have well balanced distributions, but the assignment required to split it in first 4000 and rest 4499, so I can't change that)"
   ]
  },
  {
   "cell_type": "code",
   "execution_count": 46,
   "id": "ae0e45fb",
   "metadata": {},
   "outputs": [
    {
     "name": "stdout",
     "output_type": "stream",
     "text": [
      "Fitting 5 folds for each of 11 candidates, totalling 55 fits\n",
      "Best Para in Sklearn model: {'C': 0.001}, the corresponding C in last qustion: 4.0\n",
      "\n",
      "Test accuracy: 96.66666666666667%\n",
      "sum of W*:  -0.038602420901886494\n",
      "b*:         0.29306626124222945\n"
     ]
    }
   ],
   "source": [
    "# Instantiate the grid search model\n",
    "grid_search = GridSearchCV(estimator = clf, param_grid = param_grid, scoring = 'roc_auc',\n",
    "                          cv = 5, n_jobs = -1, verbose = 2) # Using roc_auc as the evaluation metric\n",
    "grid_search.fit(X_val, Y_val)\n",
    "\n",
    "print(f'Best Para in Sklearn model: {grid_search.best_params_}, the corresponding C in last qustion: {list(grid_search.best_params_.values())[0]*X_train.shape[0]}\\n')\n",
    "\n",
    "#create svm model using optimal paras\n",
    "svm_star = svm.LinearSVC(C=grid_search.best_params_['C'])\n",
    "#t fit train set\n",
    "svm_star.fit(X_train, Y_train)\n",
    "\n",
    "# Performance\n",
    "score = svm_star.score(X_test,Y_test)\n",
    "print(f'Test accuracy: {score*100}%')\n",
    "print('sum of W*: ',np.sum(svm_star.coef_))\n",
    "print('b*:        ',svm_star.intercept_[0])"
   ]
  },
  {
   "cell_type": "markdown",
   "id": "5f83ba2e",
   "metadata": {},
   "source": [
    "Using 'ROC_AUC' as the scoring metric is more recommanded"
   ]
  }
 ],
 "metadata": {
  "kernelspec": {
   "display_name": "Python 3 (ipykernel)",
   "language": "python",
   "name": "python3"
  },
  "language_info": {
   "codemirror_mode": {
    "name": "ipython",
    "version": 3
   },
   "file_extension": ".py",
   "mimetype": "text/x-python",
   "name": "python",
   "nbconvert_exporter": "python",
   "pygments_lexer": "ipython3",
   "version": "3.9.7"
  }
 },
 "nbformat": 4,
 "nbformat_minor": 5
}
